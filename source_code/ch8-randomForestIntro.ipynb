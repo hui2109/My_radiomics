{
 "cells": [
  {
   "cell_type": "markdown",
   "metadata": {},
   "source": [
    "# 随机森林分类器"
   ]
  },
  {
   "cell_type": "markdown",
   "metadata": {},
   "source": [
    "#### 导入包"
   ]
  },
  {
   "cell_type": "code",
   "execution_count": 1,
   "metadata": {
    "scrolled": true
   },
   "outputs": [],
   "source": [
    "import pandas as pd\n",
    "import numpy as np\n",
    "from sklearn.preprocessing import StandardScaler\n",
    "from scipy.stats import ttest_ind, levene\n",
    "from sklearn.linear_model import LassoCV\n",
    "from sklearn.utils import shuffle\n",
    "from sklearn.ensemble import RandomForestClassifier #\n",
    "from sklearn.model_selection import train_test_split #"
   ]
  },
  {
   "cell_type": "markdown",
   "metadata": {},
   "source": [
    "#### 导入数据"
   ]
  },
  {
   "cell_type": "code",
   "execution_count": 2,
   "metadata": {
    "scrolled": true
   },
   "outputs": [
    {
     "name": "stdout",
     "output_type": "stream",
     "text": [
      "(212, 30) (357, 30)\n"
     ]
    }
   ],
   "source": [
    "xlsx_a = 'data/featureTable/aa.xlsx'\n",
    "xlsx_b = 'data/featureTable/bb.xlsx'\n",
    "data_a = pd.read_excel(xlsx_a)\n",
    "data_b = pd.read_excel(xlsx_b)\n",
    "print(data_a.shape,data_b.shape)"
   ]
  },
  {
   "cell_type": "markdown",
   "metadata": {},
   "source": [
    "#### t检验特征筛选"
   ]
  },
  {
   "cell_type": "code",
   "execution_count": 3,
   "metadata": {
    "scrolled": true
   },
   "outputs": [
    {
     "name": "stdout",
     "output_type": "stream",
     "text": [
      "25\n",
      "['A', 'B', 'C', 'D', 'E', 'F', 'G', 'H', 'I', 'K', 'M', 'N', 'P', 'Q', 'R', 'U', 'V', 'W', 'X', 'Y', 'Z', 'AA', 'AB', 'AC', 'AD']\n"
     ]
    }
   ],
   "source": [
    "index = []\n",
    "for colName in data_a.columns[:]: \n",
    "    if levene(data_a[colName], data_b[colName])[1] > 0.05: \n",
    "        if ttest_ind(data_a[colName], data_b[colName])[1] < 0.05: \n",
    "            index.append(colName)\n",
    "    else: \n",
    "        if ttest_ind(data_a[colName], data_b[colName],equal_var=False)[1] < 0.05: \n",
    "            index.append(colName)\n",
    "print(len(index))\n",
    "print(index)"
   ]
  },
  {
   "cell_type": "markdown",
   "metadata": {},
   "source": [
    "#### t检验后数据处理"
   ]
  },
  {
   "cell_type": "code",
   "execution_count": 4,
   "metadata": {
    "scrolled": true
   },
   "outputs": [
    {
     "name": "stdout",
     "output_type": "stream",
     "text": [
      "(569, 26)\n"
     ]
    }
   ],
   "source": [
    "data_a = data_a[index]\n",
    "data_b = data_b[index]\n",
    "rows_a,cols_a = data_a.shape\n",
    "rows_b,cols_b = data_b.shape\n",
    "labels_a = np.zeros(rows_a)\n",
    "labels_b = np.ones(rows_b)\n",
    "data_a.insert(0, 'label', labels_a)\n",
    "data_b.insert(0, 'label', labels_b)\n",
    "data = pd.concat([data_a,data_b])\n",
    "data = shuffle(data)\n",
    "data.index = range(len(data))\n",
    "X = data[data.columns[1:]]\n",
    "y = data['label']\n",
    "X = X.apply(pd.to_numeric, errors='ignore')\n",
    "colNames = X.columns\n",
    "X = X.fillna(0)\n",
    "X = X.astype(np.float64)\n",
    "X = StandardScaler().fit_transform(X)\n",
    "X = pd.DataFrame(X)\n",
    "X.columns = colNames\n",
    "print(data.shape)"
   ]
  },
  {
   "cell_type": "markdown",
   "metadata": {},
   "source": [
    "#### LASSO特征筛选"
   ]
  },
  {
   "cell_type": "code",
   "execution_count": 5,
   "metadata": {
    "scrolled": true
   },
   "outputs": [
    {
     "name": "stdout",
     "output_type": "stream",
     "text": [
      "0.0008286427728546842\n",
      "Lasso picked 19\n",
      "B    -0.034716\n",
      "E     0.014874\n",
      "F     0.170354\n",
      "G    -0.096859\n",
      "H    -0.100157\n",
      "I     0.000167\n",
      "K    -0.140338\n",
      "N     0.091212\n",
      "P    -0.005341\n",
      "Q     0.101661\n",
      "R    -0.060501\n",
      "U    -0.474987\n",
      "V    -0.031190\n",
      "X     0.308392\n",
      "Y    -0.062234\n",
      "AA   -0.080219\n",
      "AB   -0.016723\n",
      "AC   -0.047266\n",
      "AD   -0.052621\n",
      "dtype: float64\n"
     ]
    }
   ],
   "source": [
    "alphas = np.logspace(-4,1,50)\n",
    "model_lassoCV = LassoCV(alphas = alphas,max_iter = 100000).fit(X,y)\n",
    "coef = pd.Series(model_lassoCV.coef_, index = X.columns)\n",
    "print(model_lassoCV.alpha_)\n",
    "print('%s %d'%('Lasso picked',sum(coef != 0)))\n",
    "print(coef[coef != 0])\n",
    "index = coef[coef != 0].index\n",
    "X = X[index]"
   ]
  },
  {
   "cell_type": "markdown",
   "metadata": {},
   "source": [
    "#### 随机森林分类"
   ]
  },
  {
   "cell_type": "code",
   "execution_count": 6,
   "metadata": {
    "scrolled": true
   },
   "outputs": [
    {
     "name": "stdout",
     "output_type": "stream",
     "text": [
      "{'bootstrap': True, 'ccp_alpha': 0.0, 'class_weight': 'balanced', 'criterion': 'entropy', 'max_depth': None, 'max_features': 'auto', 'max_leaf_nodes': None, 'max_samples': None, 'min_impurity_decrease': 0.0, 'min_impurity_split': None, 'min_samples_leaf': 1, 'min_samples_split': 2, 'min_weight_fraction_leaf': 0.0, 'n_estimators': 200, 'n_jobs': None, 'oob_score': False, 'random_state': 20, 'verbose': 0, 'warm_start': False}\n"
     ]
    }
   ],
   "source": [
    "np.set_printoptions(threshold=np.inf)  \n",
    "X_train, X_test, y_train, y_test = train_test_split(X, y,test_size=0.3,random_state = 15)\n",
    "model_rf = RandomForestClassifier(n_estimators = 200 # default 100\n",
    "                                  , criterion = 'entropy'# support 'gini' and 'entropy', default 'gini'\n",
    "                                  , random_state = 20 # default = None\n",
    "                                  , class_weight = 'balanced' # default = None\n",
    "                                 )\n",
    "model_rf.fit(X_train,y_train)\n",
    "# print(model_rf.score(X_test,y_test))\n",
    "# print(model_rf.predict(X_test))\n",
    "# print(model_rf.predict_proba(X_test))\n",
    "# print(model_rf.n_features_)\n",
    "# print(model_rf.feature_importances_)\n",
    "print(model_rf.get_params())"
   ]
  },
  {
   "cell_type": "code",
   "execution_count": null,
   "metadata": {
    "scrolled": true
   },
   "outputs": [],
   "source": []
  }
 ],
 "metadata": {
  "kernelspec": {
   "display_name": "Python 3",
   "language": "python",
   "name": "python3"
  },
  "language_info": {
   "codemirror_mode": {
    "name": "ipython",
    "version": 3
   },
   "file_extension": ".py",
   "mimetype": "text/x-python",
   "name": "python",
   "nbconvert_exporter": "python",
   "pygments_lexer": "ipython3",
   "version": "3.7.3"
  }
 },
 "nbformat": 4,
 "nbformat_minor": 4
}
