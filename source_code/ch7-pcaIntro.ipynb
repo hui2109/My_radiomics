{
 "cells": [
  {
   "cell_type": "markdown",
   "metadata": {},
   "source": [
    "# 影像组学特征筛选和降维"
   ]
  },
  {
   "cell_type": "markdown",
   "metadata": {},
   "source": [
    "## 主成分分析降维"
   ]
  },
  {
   "cell_type": "markdown",
   "metadata": {},
   "source": [
    "#### 导入包"
   ]
  },
  {
   "cell_type": "code",
   "execution_count": 1,
   "metadata": {},
   "outputs": [],
   "source": [
    "import pandas as pd\n",
    "import numpy as np\n",
    "from sklearn.utils import shuffle\n",
    "from sklearn.preprocessing import StandardScaler\n",
    "from sklearn.decomposition import PCA"
   ]
  },
  {
   "cell_type": "markdown",
   "metadata": {},
   "source": [
    "#### 导入数据集数据预处理"
   ]
  },
  {
   "cell_type": "code",
   "execution_count": 2,
   "metadata": {},
   "outputs": [
    {
     "name": "stdout",
     "output_type": "stream",
     "text": [
      "(569, 30)\n",
      "     label       A      B       C       D        E        F        G        H  \\\n",
      "63       0  20.260  23.03  132.40  1264.0  0.09078  0.13130  0.14650  0.08683   \n",
      "182      1  10.050  17.53   64.41   310.8  0.10070  0.07326  0.02511  0.01775   \n",
      "322      1   8.571  13.10   54.53   221.3  0.10360  0.07632  0.02565  0.01510   \n",
      "167      0  20.640  17.35  134.80  1335.0  0.09446  0.10760  0.15270  0.08941   \n",
      "26       1  12.000  15.65   76.95   443.3  0.09723  0.07165  0.04151  0.01863   \n",
      "\n",
      "          I  ...       U      V       W       X       Y       Z      AA  \\\n",
      "63   0.2095  ...  24.220  31.59  156.10  1750.0  0.1190  0.3539  0.4098   \n",
      "182  0.1890  ...  11.160  26.84   71.98   384.0  0.1402  0.1402  0.1055   \n",
      "322  0.1678  ...   9.473  18.45   63.30   275.6  0.1641  0.2235  0.1754   \n",
      "167  0.1571  ...  25.370  23.17  166.80  1946.0  0.1562  0.3055  0.4159   \n",
      "26   0.2079  ...  13.670  24.90   87.78   567.9  0.1377  0.2003  0.2267   \n",
      "\n",
      "          AB      AC       AD  \n",
      "63   0.15730  0.3689  0.08368  \n",
      "182  0.06499  0.2894  0.07664  \n",
      "322  0.08512  0.2983  0.10490  \n",
      "167  0.21120  0.2689  0.07055  \n",
      "26   0.07632  0.3379  0.07924  \n",
      "\n",
      "[5 rows x 31 columns]\n"
     ]
    }
   ],
   "source": [
    "xlsx1_filePath = 'data/featureTable/aa.xlsx'\n",
    "xlsx2_filePath = 'data/featureTable/bb.xlsx'\n",
    "data_1 = pd.read_excel(xlsx1_filePath)\n",
    "data_2 = pd.read_excel(xlsx2_filePath)\n",
    "rows_1,__ = data_1.shape\n",
    "rows_2,__ = data_2.shape\n",
    "data_1.insert(0, 'label', [0] * rows_1)\n",
    "data_2.insert(0, 'label', [1] * rows_2)\n",
    "data = pd.concat([data_1,data_2])\n",
    "data = shuffle(data)\n",
    "data = data.fillna(0)\n",
    "X = data[data.columns[1:]]\n",
    "y = data['label']\n",
    "colNames = X.columns\n",
    "X = X.astype(np.float64)\n",
    "X = StandardScaler().fit_transform(X)\n",
    "X = pd.DataFrame(X)\n",
    "X.columns = colNames\n",
    "print(X.shape)\n",
    "print(data.head())"
   ]
  },
  {
   "cell_type": "markdown",
   "metadata": {},
   "source": [
    "#### 主成分分析建模"
   ]
  },
  {
   "cell_type": "code",
   "execution_count": 3,
   "metadata": {},
   "outputs": [
    {
     "name": "stdout",
     "output_type": "stream",
     "text": [
      "(569, 17)\n"
     ]
    }
   ],
   "source": [
    "model_pca = PCA(n_components = 0.99)\n",
    "model_pca.fit(X)\n",
    "X_new = model_pca.fit_transform(X)\n",
    "print(X_new.shape)"
   ]
  },
  {
   "cell_type": "markdown",
   "metadata": {},
   "source": [
    "#### 输出"
   ]
  },
  {
   "cell_type": "code",
   "execution_count": 4,
   "metadata": {},
   "outputs": [
    {
     "name": "stdout",
     "output_type": "stream",
     "text": [
      "[13.30499079  5.7013746   2.82291016  1.98412752  1.65163324  1.20948224\n",
      "  0.67640888  0.47745625  0.41762878  0.35131087  0.29443315  0.26162116\n",
      "  0.24178242  0.15728615  0.0943007   0.0800034   0.05950361]\n",
      "[0.44272026 0.18971182 0.09393163 0.06602135 0.05495768 0.04024522\n",
      " 0.02250734 0.01588724 0.01389649 0.01168978 0.00979719 0.00870538\n",
      " 0.00804525 0.00523366 0.00313783 0.00266209 0.00197997]\n",
      "0.9911301840050235\n"
     ]
    }
   ],
   "source": [
    "print(model_pca.explained_variance_)\n",
    "print(model_pca.explained_variance_ratio_)\n",
    "print(sum(model_pca.explained_variance_ratio_))"
   ]
  },
  {
   "cell_type": "code",
   "execution_count": null,
   "metadata": {},
   "outputs": [],
   "source": []
  }
 ],
 "metadata": {
  "kernelspec": {
   "display_name": "Python 3",
   "language": "python",
   "name": "python3"
  },
  "language_info": {
   "codemirror_mode": {
    "name": "ipython",
    "version": 3
   },
   "file_extension": ".py",
   "mimetype": "text/x-python",
   "name": "python",
   "nbconvert_exporter": "python",
   "pygments_lexer": "ipython3",
   "version": "3.7.3"
  }
 },
 "nbformat": 4,
 "nbformat_minor": 2
}
