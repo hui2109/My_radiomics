{
 "cells": [
  {
   "cell_type": "code",
   "execution_count": 1,
   "metadata": {},
   "outputs": [],
   "source": [
    "import SimpleITK as sitk"
   ]
  },
  {
   "cell_type": "code",
   "execution_count": 2,
   "metadata": {},
   "outputs": [],
   "source": [
    "maskFilePath = 'data/registration/HarvardOxford-cort-maxprob-thr50-2mm.nii'\n",
    "reader = sitk.ImageFileReader()\n",
    "reader.SetFileName(maskFilePath)\n",
    "mask = reader.Execute()\n",
    "size = mask.GetSize() # order: x, y, z\n",
    "origin = mask.GetOrigin() # order: x, y, z\n",
    "spacing = mask.GetSpacing() # order:x, y, z\n",
    "direction = mask.GetDirection() # order: x, y, z\n",
    "\n",
    "maskArr = sitk.GetArrayFromImage(mask) # order:z, y, x\n",
    "maskArr_new = maskArr\n",
    "maskArr_new[maskArr != 31] = 0\n",
    "maskArr_new[maskArr == 31] = 1\n",
    "\n",
    "mask_new = sitk.GetImageFromArray(maskArr_new)\n",
    "mask_new.SetDirection(direction)\n",
    "mask_new.SetSpacing(spacing)\n",
    "mask_new.SetOrigin(origin)\n",
    "sitk.WriteImage(mask_new,'registration/mask_new.nii.gz')\n"
   ]
  },
  {
   "cell_type": "code",
   "execution_count": null,
   "metadata": {},
   "outputs": [],
   "source": []
  }
 ],
 "metadata": {
  "kernelspec": {
   "display_name": "Python 3",
   "language": "python",
   "name": "python3"
  },
  "language_info": {
   "codemirror_mode": {
    "name": "ipython",
    "version": 3
   },
   "file_extension": ".py",
   "mimetype": "text/x-python",
   "name": "python",
   "nbconvert_exporter": "python",
   "pygments_lexer": "ipython3",
   "version": "3.7.3"
  }
 },
 "nbformat": 4,
 "nbformat_minor": 2
}
