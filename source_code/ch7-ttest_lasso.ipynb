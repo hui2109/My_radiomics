{
 "cells": [
  {
   "cell_type": "markdown",
   "metadata": {},
   "source": [
    "# 影像组学特征筛选和降维"
   ]
  },
  {
   "cell_type": "markdown",
   "metadata": {},
   "source": [
    "## T检验结合LASSO实现影像组学特征筛选"
   ]
  },
  {
   "cell_type": "markdown",
   "metadata": {},
   "source": [
    "#### 导入包"
   ]
  },
  {
   "cell_type": "code",
   "execution_count": 5,
   "metadata": {},
   "outputs": [],
   "source": [
    "import pandas as pd\n",
    "import numpy as np\n",
    "from sklearn.preprocessing import StandardScaler #用于数据归一化处理\n",
    "from scipy.stats import ttest_ind, levene\n",
    "from sklearn.linear_model import LassoCV\n",
    "from sklearn.utils import shuffle"
   ]
  },
  {
   "cell_type": "markdown",
   "metadata": {},
   "source": [
    "#### 导入数据"
   ]
  },
  {
   "cell_type": "code",
   "execution_count": 2,
   "metadata": {},
   "outputs": [
    {
     "name": "stdout",
     "output_type": "stream",
     "text": [
      "(212, 30) (357, 30)\n"
     ]
    }
   ],
   "source": [
    "xlsx_a = 'data/featureTable/aa.xlsx'\n",
    "xlsx_b = 'data/featureTable/bb.xlsx'\n",
    "data_a = pd.read_excel(xlsx_a)\n",
    "data_b = pd.read_excel(xlsx_b)\n",
    "print(data_a.shape,data_b.shape)"
   ]
  },
  {
   "cell_type": "markdown",
   "metadata": {},
   "source": [
    "#### t检验特征筛选"
   ]
  },
  {
   "cell_type": "code",
   "execution_count": 3,
   "metadata": {},
   "outputs": [
    {
     "name": "stdout",
     "output_type": "stream",
     "text": [
      "LeveneResult(statistic=90.47705934341127, pvalue=5.279775501703329e-20)\n"
     ]
    }
   ],
   "source": [
    "print(levene(data_a['A'], data_b['A']))"
   ]
  },
  {
   "cell_type": "code",
   "execution_count": 4,
   "metadata": {},
   "outputs": [
    {
     "name": "stdout",
     "output_type": "stream",
     "text": [
      "Ttest_indResult(statistic=22.208797758464524, pvalue=1.6844591259582747e-64)\n"
     ]
    }
   ],
   "source": [
    "print(ttest_ind(data_a['A'], data_b['A'],equal_var=False))"
   ]
  },
  {
   "cell_type": "code",
   "execution_count": 5,
   "metadata": {},
   "outputs": [
    {
     "name": "stdout",
     "output_type": "stream",
     "text": [
      "25\n",
      "['A', 'B', 'C', 'D', 'E', 'F', 'G', 'H', 'I', 'K', 'M', 'N', 'P', 'Q', 'R', 'U', 'V', 'W', 'X', 'Y', 'Z', 'AA', 'AB', 'AC', 'AD']\n"
     ]
    }
   ],
   "source": [
    "index = []\n",
    "for colName in data_a.columns[:]: \n",
    "    if levene(data_a[colName], data_b[colName])[1] > 0.05: \n",
    "        if ttest_ind(data_a[colName], data_b[colName])[1] < 0.05: \n",
    "            index.append(colName)\n",
    "    else: \n",
    "        if ttest_ind(data_a[colName], data_b[colName],equal_var=False)[1] < 0.05: \n",
    "            index.append(colName)\n",
    "print(len(index))\n",
    "print(index)"
   ]
  },
  {
   "cell_type": "markdown",
   "metadata": {},
   "source": [
    "#### t检验后数据处理"
   ]
  },
  {
   "cell_type": "code",
   "execution_count": 6,
   "metadata": {},
   "outputs": [],
   "source": [
    "data_a = data_a[index]\n",
    "data_b = data_b[index]\n",
    "rows_a,cols_a = data_a.shape\n",
    "rows_b,cols_b = data_b.shape\n",
    "labels_a = np.zeros(rows_a)\n",
    "labels_b = np.ones(rows_b)\n",
    "data_a.insert(0, 'label', labels_a)\n",
    "data_b.insert(0, 'label', labels_b)\n",
    "data = pd.concat([data_a,data_b])\n",
    "data = shuffle(data)\n",
    "data.index = range(len(data))\n",
    "X = data[data.columns[1:]]\n",
    "y = data['label']\n",
    "X = X.apply(pd.to_numeric, errors='ignore') # 将数据类型转化为数值型\n",
    "colNames = X.columns #读取特征的名字\n",
    "X = X.fillna(0)\n",
    "X = X.astype(np.float64)\n",
    "X = StandardScaler().fit_transform(X)\n",
    "X = pd.DataFrame(X)\n",
    "X.columns = colNames"
   ]
  },
  {
   "cell_type": "code",
   "execution_count": 7,
   "metadata": {},
   "outputs": [
    {
     "name": "stdout",
     "output_type": "stream",
     "text": [
      "(569, 26)\n",
      "          A         B         C         D         E         F         G  \\\n",
      "0 -0.473535 -1.503204 -0.541199 -0.505082 -1.611206 -1.211208 -1.024816   \n",
      "1  1.551487  1.328837  1.471766  1.524754  0.486752 -0.106715  0.962975   \n",
      "2  2.874993  0.211845  3.057588  3.145893  3.440117  3.455973  4.243589   \n",
      "3 -0.121357 -0.383884 -0.173371 -0.238305  0.223439 -0.469447 -0.543873   \n",
      "4 -0.263364 -0.807410 -0.325363 -0.334435 -0.800631 -0.982274 -1.096530   \n",
      "\n",
      "          H         I         K  ...         U         V         W         X  \\\n",
      "0 -0.965447 -0.725145 -0.279974  ... -0.637646 -1.517252 -0.715492 -0.609263   \n",
      "1  1.075889 -0.542598  0.224594  ...  1.070784  0.860267  0.969195  0.950006   \n",
      "2  3.927930  3.079138  3.983947  ...  2.019222 -0.274754  2.193393  2.096165   \n",
      "3 -0.446730 -0.290683 -0.584952  ... -0.271110 -0.349662 -0.341978 -0.341181   \n",
      "4 -1.177705 -0.655777 -0.775518  ... -0.385006 -0.851221 -0.454568 -0.428374   \n",
      "\n",
      "          Y         Z        AA        AB        AC        AD  \n",
      "0 -1.664826 -1.205453 -1.225520 -1.336990 -1.004247 -0.757302  \n",
      "1  0.895629 -0.443803  0.602144  0.487156 -0.983215 -1.276549  \n",
      "2  1.632072  1.082296  1.478172  1.677876  0.519703 -0.213673  \n",
      "3 -0.546572 -0.761237 -0.470102 -0.362945 -0.619215 -0.794985  \n",
      "4 -0.857807 -0.761237 -1.252098 -1.364398 -0.404050 -0.005310  \n",
      "\n",
      "[5 rows x 25 columns]\n"
     ]
    }
   ],
   "source": [
    "print(data.shape)\n",
    "print(X.head())"
   ]
  },
  {
   "cell_type": "markdown",
   "metadata": {},
   "source": [
    "#### LASSO特征筛选"
   ]
  },
  {
   "cell_type": "code",
   "execution_count": 8,
   "metadata": {},
   "outputs": [
    {
     "name": "stdout",
     "output_type": "stream",
     "text": [
      "0.00040949150623804275\n",
      "Lasso picked 21\n",
      "B    -0.034295\n",
      "D     0.002491\n",
      "E     0.017027\n",
      "F     0.184738\n",
      "G    -0.122652\n",
      "H    -0.092809\n",
      "I     0.001634\n",
      "K    -0.157311\n",
      "M     0.018898\n",
      "N     0.086753\n",
      "P    -0.012537\n",
      "Q     0.116439\n",
      "R    -0.067602\n",
      "U    -0.516894\n",
      "V    -0.030768\n",
      "X     0.349906\n",
      "Y    -0.065249\n",
      "AA   -0.078566\n",
      "AB   -0.010136\n",
      "AC   -0.048976\n",
      "AD   -0.056062\n",
      "dtype: float64\n"
     ]
    }
   ],
   "source": [
    "alphas = np.logspace(-4,1,50)\n",
    "model_lassoCV = LassoCV(alphas = alphas,max_iter = 100000).fit(X,y)\n",
    "coef = pd.Series(model_lassoCV.coef_, index = X.columns)\n",
    "print(model_lassoCV.alpha_)\n",
    "print('%s %d'%('Lasso picked',sum(coef != 0)))\n",
    "print(coef[coef != 0])"
   ]
  },
  {
   "cell_type": "code",
   "execution_count": null,
   "metadata": {},
   "outputs": [],
   "source": []
  }
 ],
 "metadata": {
  "kernelspec": {
   "display_name": "Python 3",
   "language": "python",
   "name": "python3"
  },
  "language_info": {
   "codemirror_mode": {
    "name": "ipython",
    "version": 3
   },
   "file_extension": ".py",
   "mimetype": "text/x-python",
   "name": "python",
   "nbconvert_exporter": "python",
   "pygments_lexer": "ipython3",
   "version": "3.7.3"
  }
 },
 "nbformat": 4,
 "nbformat_minor": 4
}
