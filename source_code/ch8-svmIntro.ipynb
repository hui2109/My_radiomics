{
 "cells": [
  {
   "cell_type": "markdown",
   "metadata": {},
   "source": [
    "# 支持向量机分类器"
   ]
  },
  {
   "cell_type": "markdown",
   "metadata": {},
   "source": [
    "#### 导入包"
   ]
  },
  {
   "cell_type": "code",
   "execution_count": 1,
   "metadata": {},
   "outputs": [],
   "source": [
    "import pandas as pd\n",
    "import numpy as np\n",
    "from sklearn.preprocessing import StandardScaler\n",
    "from scipy.stats import ttest_ind, levene\n",
    "from sklearn.utils import shuffle\n",
    "from sklearn.linear_model import LassoCV\n",
    "from sklearn.model_selection import train_test_split\n",
    "from sklearn.svm import SVC #"
   ]
  },
  {
   "cell_type": "markdown",
   "metadata": {},
   "source": [
    "#### 导入数据"
   ]
  },
  {
   "cell_type": "code",
   "execution_count": 2,
   "metadata": {},
   "outputs": [
    {
     "name": "stdout",
     "output_type": "stream",
     "text": [
      "(212, 30) (357, 30)\n"
     ]
    }
   ],
   "source": [
    "xlsx_a = 'data/featureTable/aa.xlsx'\n",
    "xlsx_b = 'data/featureTable/bb.xlsx'\n",
    "data_a = pd.read_excel(xlsx_a)\n",
    "data_b = pd.read_excel(xlsx_b)\n",
    "print(data_a.shape,data_b.shape)"
   ]
  },
  {
   "cell_type": "markdown",
   "metadata": {},
   "source": [
    "#### t检验特征筛选"
   ]
  },
  {
   "cell_type": "code",
   "execution_count": 3,
   "metadata": {},
   "outputs": [
    {
     "name": "stdout",
     "output_type": "stream",
     "text": [
      "25\n",
      "['A', 'B', 'C', 'D', 'E', 'F', 'G', 'H', 'I', 'K', 'M', 'N', 'P', 'Q', 'R', 'U', 'V', 'W', 'X', 'Y', 'Z', 'AA', 'AB', 'AC', 'AD']\n"
     ]
    }
   ],
   "source": [
    "index = []\n",
    "for colName in data_a.columns[:]: \n",
    "    if levene(data_a[colName], data_b[colName])[1] > 0.05: \n",
    "        if ttest_ind(data_a[colName], data_b[colName])[1] < 0.05: \n",
    "            index.append(colName)\n",
    "    else: \n",
    "        if ttest_ind(data_a[colName], data_b[colName],equal_var=False)[1] < 0.05: \n",
    "            index.append(colName)\n",
    "print(len(index))\n",
    "print(index)"
   ]
  },
  {
   "cell_type": "markdown",
   "metadata": {},
   "source": [
    "#### t检验后数据处理"
   ]
  },
  {
   "cell_type": "code",
   "execution_count": 4,
   "metadata": {},
   "outputs": [
    {
     "name": "stdout",
     "output_type": "stream",
     "text": [
      "(569, 26)\n"
     ]
    }
   ],
   "source": [
    "data_a = data_a[index]\n",
    "data_b = data_b[index]\n",
    "rows_a,cols_a = data_a.shape\n",
    "rows_b,cols_b = data_b.shape\n",
    "labels_a = np.zeros(rows_a)\n",
    "labels_b = np.ones(rows_b)\n",
    "data_a.insert(0, 'label', labels_a)\n",
    "data_b.insert(0, 'label', labels_b)\n",
    "data = pd.concat([data_a,data_b])\n",
    "data = shuffle(data)\n",
    "data.index = range(len(data))\n",
    "X = data[data.columns[1:]]\n",
    "y = data['label']\n",
    "X = X.apply(pd.to_numeric, errors='ignore')\n",
    "colNames = X.columns\n",
    "X = X.fillna(0)\n",
    "X = X.astype(np.float64)\n",
    "X = StandardScaler().fit_transform(X)\n",
    "X = pd.DataFrame(X)\n",
    "X.columns = colNames\n",
    "print(data.shape)"
   ]
  },
  {
   "cell_type": "markdown",
   "metadata": {},
   "source": [
    "#### LASSO特征筛选"
   ]
  },
  {
   "cell_type": "code",
   "execution_count": 5,
   "metadata": {},
   "outputs": [
    {
     "name": "stdout",
     "output_type": "stream",
     "text": [
      "0.0006551285568595509\n",
      "Lasso picked 20\n",
      "B    -0.034474\n",
      "E     0.015739\n",
      "F     0.176224\n",
      "G    -0.107364\n",
      "H    -0.096814\n",
      "I     0.000767\n",
      "K    -0.147710\n",
      "M     0.007740\n",
      "N     0.089843\n",
      "P    -0.008272\n",
      "Q     0.107749\n",
      "R    -0.063408\n",
      "U    -0.491343\n",
      "V    -0.031098\n",
      "X     0.325386\n",
      "Y    -0.063509\n",
      "AA   -0.079608\n",
      "AB   -0.014173\n",
      "AC   -0.047987\n",
      "AD   -0.054080\n",
      "dtype: float64\n"
     ]
    }
   ],
   "source": [
    "alphas = np.logspace(-4,1,50)\n",
    "model_lassoCV = LassoCV(alphas = alphas,max_iter = 100000).fit(X,y)\n",
    "coef = pd.Series(model_lassoCV.coef_, index = X.columns)\n",
    "print(model_lassoCV.alpha_)\n",
    "print('%s %d'%('Lasso picked',sum(coef != 0)))\n",
    "print(coef[coef != 0])\n",
    "index = coef[coef != 0].index\n",
    "X = X[index]"
   ]
  },
  {
   "cell_type": "markdown",
   "metadata": {},
   "source": [
    "#### SVM分类"
   ]
  },
  {
   "cell_type": "code",
   "execution_count": 6,
   "metadata": {},
   "outputs": [
    {
     "name": "stdout",
     "output_type": "stream",
     "text": [
      "{'C': 1.0, 'break_ties': False, 'cache_size': 200, 'class_weight': None, 'coef0': 0.0, 'decision_function_shape': 'ovr', 'degree': 3, 'gamma': 'scale', 'kernel': 'rbf', 'max_iter': -1, 'probability': True, 'random_state': None, 'shrinking': True, 'tol': 0.001, 'verbose': False}\n"
     ]
    }
   ],
   "source": [
    "np.set_printoptions(threshold=np.inf)  \n",
    "X_train, X_test, y_train, y_test = train_test_split(X, y, test_size=0.3)\n",
    "model_svm = SVC(kernel='rbf',gamma = 'scale',probability=True)\n",
    "model_svm.fit(X_train,y_train)\n",
    "# print(model_svm.score(X_test,y_test))\n",
    "# print(model_svm.predict(X_test))\n",
    "# print(model_svm.predict_proba(X_test))\n",
    "print(model_svm.get_params())"
   ]
  },
  {
   "cell_type": "code",
   "execution_count": null,
   "metadata": {},
   "outputs": [],
   "source": []
  }
 ],
 "metadata": {
  "kernelspec": {
   "display_name": "Python 3",
   "language": "python",
   "name": "python3"
  },
  "language_info": {
   "codemirror_mode": {
    "name": "ipython",
    "version": 3
   },
   "file_extension": ".py",
   "mimetype": "text/x-python",
   "name": "python",
   "nbconvert_exporter": "python",
   "pygments_lexer": "ipython3",
   "version": "3.7.3"
  }
 },
 "nbformat": 4,
 "nbformat_minor": 4
}
