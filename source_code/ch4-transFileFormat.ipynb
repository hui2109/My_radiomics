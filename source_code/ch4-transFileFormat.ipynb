{
 "cells": [
  {
   "cell_type": "markdown",
   "metadata": {},
   "source": [
    "# 使用python的simpleITK包进行DICOM到NIFTI格式的转换"
   ]
  },
  {
   "cell_type": "code",
   "execution_count": 1,
   "metadata": {},
   "outputs": [],
   "source": [
    "import SimpleITK as sitk\n",
    "import os"
   ]
  },
  {
   "cell_type": "code",
   "execution_count": 2,
   "metadata": {},
   "outputs": [],
   "source": [
    "folderPath = 'data/mri/pat0001'\n",
    "reader = sitk.ImageSeriesReader()\n",
    "dicom_names = reader.GetGDCMSeriesFileNames(folderPath)\n",
    "reader.SetFileNames(dicom_names)\n",
    "image = reader.Execute()\n",
    "sitk.WriteImage(image,folderPath+'.nii.gz')"
   ]
  },
  {
   "cell_type": "markdown",
   "metadata": {},
   "source": [
    "# 批处理DICOM到NIFTI的格式转换"
   ]
  },
  {
   "cell_type": "code",
   "execution_count": 3,
   "metadata": {},
   "outputs": [
    {
     "name": "stdout",
     "output_type": "stream",
     "text": [
      "['pat0001', 'pat0001.nii.gz', 'pat0002']\n",
      "Transforming pat0001\n",
      "Transforming pat0002\n"
     ]
    }
   ],
   "source": [
    "basePath = 'data/mri/'\n",
    "folderList = os.listdir(basePath)\n",
    "print(folderList)\n",
    "reader = sitk.ImageSeriesReader()\n",
    "for folder in folderList:\n",
    "    folderPath = basePath + folder\n",
    "    if os.path.isdir(folderPath):\n",
    "        print(\"Transforming \"+ folder)\n",
    "        dicom_names = reader.GetGDCMSeriesFileNames(folderPath)\n",
    "        reader.SetFileNames(dicom_names)\n",
    "        image = reader.Execute()\n",
    "        sitk.WriteImage(image,folderPath+'.nii.gz')"
   ]
  },
  {
   "cell_type": "code",
   "execution_count": null,
   "metadata": {},
   "outputs": [],
   "source": []
  }
 ],
 "metadata": {
  "kernelspec": {
   "display_name": "Python 3",
   "language": "python",
   "name": "python3"
  },
  "language_info": {
   "codemirror_mode": {
    "name": "ipython",
    "version": 3
   },
   "file_extension": ".py",
   "mimetype": "text/x-python",
   "name": "python",
   "nbconvert_exporter": "python",
   "pygments_lexer": "ipython3",
   "version": "3.7.3"
  }
 },
 "nbformat": 4,
 "nbformat_minor": 2
}
