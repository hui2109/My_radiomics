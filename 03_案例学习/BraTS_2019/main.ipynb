{
 "cells": [
  {
   "cell_type": "code",
   "execution_count": 2,
   "metadata": {
    "collapsed": true,
    "ExecuteTime": {
     "end_time": "2023-05-16T06:55:49.426310Z",
     "start_time": "2023-05-16T06:55:49.038435Z"
    }
   },
   "outputs": [],
   "source": [
    "import pandas as pd\n",
    "import matplotlib.pyplot as plt\n",
    "import seaborn as sns\n",
    "import sys\n",
    "import os\n",
    "import random\n",
    "import shutil\n",
    "import numpy as np\n",
    "import radiomics\n",
    "from radiomics import featureextractor\n",
    "import SimpleITK as sitk"
   ]
  },
  {
   "cell_type": "code",
   "execution_count": null,
   "outputs": [],
   "source": [
    "kinds = ['HGG','LGG']\n",
    "#这个是特征处理配置文件，具体可以参考pyradiomics官网\n",
    "para_path = 'yaml/MR_1mm.yaml'\n",
    "\n",
    "extractor = featureextractor.RadiomicsFeatureExtractor(para_path)\n",
    "dirs = 'data/MyData/'\n",
    "\n",
    "for kind in kinds:\n",
    "    print(\"{}:开始提取特征\".format(kind))\n",
    "    features_dict = dict()\n",
    "    df = pd.DataFrame()\n",
    "    path = dirs + kind\n",
    "    # 使用配置文件初始化特征抽取器\n",
    "    for index, folder in enumerate( os.listdir(path)):\n",
    "        for f in os.listdir(os.path.join(path, folder)):\n",
    "            if 't1ce' in f:\n",
    "                ori_path = os.path.join(path,folder, f)\n",
    "                break\n",
    "        lab_path = ori_path.replace('t1ce','seg')\n",
    "        features = extractor.execute(ori_path,lab_path)  #抽取特征\n",
    "        #新增一列用来保存病例文件夹名字\n",
    "        features_dict['index'] = folder\n",
    "        for key, value in features.items():  #输出特征\n",
    "            features_dict[key] = value\n",
    "        df = df.append(pd.DataFrame.from_dict(features_dict.values()).T,ignore_index=True)\n",
    "        print(index)\n",
    "    df.columns = features_dict.keys()\n",
    "    df.to_csv('csv/' +'{}.csv'.format(kind),index=0)\n",
    "    print('Done')\n",
    "print(\"完成\")"
   ],
   "metadata": {
    "collapsed": false
   }
  },
  {
   "cell_type": "code",
   "execution_count": 3,
   "outputs": [
    {
     "data": {
      "text/plain": "<Figure size 640x480 with 1 Axes>",
      "image/png": "[encoded data removed]"
     },
     "metadata": {},
     "output_type": "display_data"
    },
    {
     "name": "stdout",
     "output_type": "stream",
     "text": [
      "1    101\n",
      "0     76\n",
      "Name: label, dtype: int64\n"
     ]
    }
   ],
   "source": [
    "hgg_data = pd.read_csv('csv/HGG.csv')\n",
    "lgg_data = pd.read_csv('csv/LGG.csv')\n",
    "\n",
    "hgg_data.insert(1,'label', 1) #插入标签\n",
    "lgg_data.insert(1,'label', 0) #插入标签\n",
    "\n",
    "#因为有些特征是字符串，直接删掉\n",
    "cols=[x for i,x in enumerate(hgg_data.columns) if type(hgg_data.iat[1,i]) == str]\n",
    "cols.remove('index')\n",
    "hgg_data=hgg_data.drop(cols,axis=1)\n",
    "cols=[x for i,x in enumerate(lgg_data.columns) if type(lgg_data.iat[1,i]) == str]\n",
    "cols.remove('index')\n",
    "lgg_data=lgg_data.drop(cols,axis=1)\n",
    "\n",
    "#再合并成一个新的csv文件。\n",
    "total_data = pd.concat([hgg_data, lgg_data])\n",
    "total_data.to_csv('csv/TotalOMICS.csv',index=False)\n",
    "\n",
    "#简单查看数据的分布\n",
    "fig, ax = plt.subplots()\n",
    "sns.set()\n",
    "ax = sns.countplot(x='label',hue='label',data=total_data)\n",
    "plt.show()\n",
    "print(total_data['label'].value_counts())"
   ],
   "metadata": {
    "collapsed": false,
    "ExecuteTime": {
     "end_time": "2023-05-16T06:56:05.170295Z",
     "start_time": "2023-05-16T06:56:04.484752Z"
    }
   }
  },
  {
   "cell_type": "code",
   "execution_count": null,
   "outputs": [],
   "source": [
    "import pandas as pd\n",
    "def compare(data1,  data2,filename):\n",
    "    # 读取两个表\n",
    "    dt1 = pd.read_csv(data1,encoding='utf-8')\n",
    "    dt2 = pd.read_csv(data2,encoding='gb18030')\n",
    "    dt2.head()\n",
    "    df = pd.DataFrame()\n",
    "    dt1_name = dt1['index'].values.tolist()\n",
    "    dt2_name = dt2['index'].values.tolist()\n",
    "\n",
    "    for i in dt1_name:\n",
    "        if i in dt2_name:\n",
    "            dt2_row = dt2.loc[dt2['index'] == i]\n",
    "            df = df.append(dt2_row)\n",
    "    df.to_csv('./csv/'+filename+'.csv',header=True,index=False,encoding=\"utf_8_sig\")\n",
    "data_train= \"./csv/trainOmics.csv\"\n",
    "data_test = \"./csv/testOmics.csv\"\n",
    "data_clinic= \"./csv/TotalClinic.csv\"\n",
    "compare(data_train,data_clinic,\"trainClinic\")\n",
    "compare(data_test,data_clinic,\"testClinic\")"
   ],
   "metadata": {
    "collapsed": false
   }
  },
  {
   "cell_type": "markdown",
   "source": [
    "## 先做T检验，再做Lasso回归进行对特征筛选，再逻辑回归建模"
   ],
   "metadata": {
    "collapsed": false
   }
  },
  {
   "cell_type": "code",
   "execution_count": 17,
   "outputs": [
    {
     "name": "stderr",
     "output_type": "stream",
     "text": [
      "/Users/kukudehui/Documents/01_编程学习/python/12_影像组学/venv/lib/python3.7/site-packages/scipy/stats/morestats.py:2603: RuntimeWarning: invalid value encountered in double_scalars\n",
      "  W = numer / denom\n"
     ]
    },
    {
     "name": "stdout",
     "output_type": "stream",
     "text": [
      "筛选后剩下的特征数：562个\n"
     ]
    }
   ],
   "source": [
    "# T检验\n",
    "from scipy.stats import levene, ttest_ind\n",
    "tData = pd.read_csv('./csv/trainOmics.csv')\n",
    "\n",
    "df0 = tData[tData['label'].isin([0])]  # 将tData中label为0的行挑选出来\n",
    "df1 = tData[tData['label'].isin([1])]  # 将tData中label为1的行挑选出来\n",
    "\n",
    "counts = 0\n",
    "columns_index =[]\n",
    "for column_name in tData.columns[2:]:\n",
    "    if levene(df1[column_name], df0[column_name])[1] > 0.05:\n",
    "        if ttest_ind(df1[column_name],df0[column_name],equal_var=True)[1] < 0.05:\n",
    "            columns_index.append(column_name)\n",
    "    else:\n",
    "        if ttest_ind(df1[column_name],df0[column_name],equal_var=False)[1] < 0.05:\n",
    "            columns_index.append(column_name)\n",
    "\n",
    "print(\"筛选后剩下的特征数：{}个\".format(len(columns_index)))\n",
    "# print(columns_index)\n",
    "\n",
    "# 数据只保留从T检验筛选出的特征数据，重新组合成data\n",
    "if not 'label' in columns_index:\n",
    "    columns_index = ['label'] + columns_index\n",
    "if not 'index' in columns_index:\n",
    "    columns_index = ['index'] + columns_index\n",
    "df1 = df1[columns_index]\n",
    "df0 = df0[columns_index]\n",
    "\n",
    "tData = pd.concat([df1, df0])\n",
    "# tData.to_csv('./csv/tData_train.csv',header=True,index=False,encoding=\"utf_8_sig\")"
   ],
   "metadata": {
    "collapsed": false,
    "ExecuteTime": {
     "end_time": "2023-05-17T03:50:29.103589Z",
     "start_time": "2023-05-17T03:50:28.552840Z"
    }
   }
  },
  {
   "cell_type": "code",
   "execution_count": null,
   "outputs": [],
   "source": [],
   "metadata": {
    "collapsed": false
   }
  }
 ],
 "metadata": {
  "kernelspec": {
   "display_name": "Python 3",
   "language": "python",
   "name": "python3"
  },
  "language_info": {
   "codemirror_mode": {
    "name": "ipython",
    "version": 2
   },
   "file_extension": ".py",
   "mimetype": "text/x-python",
   "name": "python",
   "nbconvert_exporter": "python",
   "pygments_lexer": "ipython2",
   "version": "2.7.6"
  }
 },
 "nbformat": 4,
 "nbformat_minor": 0
}
