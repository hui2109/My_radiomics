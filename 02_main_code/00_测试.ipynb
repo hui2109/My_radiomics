{
 "cells": [
  {
   "cell_type": "code",
   "execution_count": 40,
   "outputs": [],
   "source": [
    "import SimpleITK as sitk\n",
    "import numpy as np\n",
    "import nrrd\n",
    "from PIL import Image\n",
    "import matplotlib.pyplot as plt\n",
    "import pandas as pd\n",
    "from sklearn.utils import shuffle\n",
    "from sklearn.preprocessing import StandardScaler\n",
    "from sklearn.decomposition import PCA\n",
    "from sklearn.preprocessing import StandardScaler #用于数据归一化处理\n",
    "from scipy.stats import ttest_ind, levene\n",
    "from sklearn.linear_model import LassoCV\n",
    "from sklearn.utils import shuffle"
   ],
   "metadata": {
    "collapsed": false
   }
  },
  {
   "cell_type": "code",
   "execution_count": 24,
   "outputs": [
    {
     "data": {
      "text/plain": "(1, 1068, 800)"
     },
     "execution_count": 24,
     "metadata": {},
     "output_type": "execute_result"
    }
   ],
   "source": [
    "nrrd_file=r'D:\\桌面\\img.nrrd'\n",
    "data, options=nrrd.read(nrrd_file)\n",
    "a= [data]\n",
    "a=np.array(a)\n",
    "a.shape"
   ],
   "metadata": {
    "collapsed": false
   }
  },
  {
   "cell_type": "code",
   "execution_count": 3,
   "outputs": [],
   "source": [
    "png_file=r'D:\\img.png'\n",
    "png_image=sitk.ReadImage(png_file)\n",
    "# png_array=np.array(png_image)\n",
    "# a= [png_array]\n",
    "# a=np.array(a)\n",
    "# out_png_itk=sitk.GetImageFromArray(np.array(a))\n",
    "sitk.WriteImage(png_image, png_file.split(\".png\")[0] + \".nrrd\")"
   ],
   "metadata": {
    "collapsed": false
   }
  },
  {
   "cell_type": "code",
   "execution_count": 5,
   "outputs": [],
   "source": [
    "img_path=r'D:\\桌面\\影像组学入门及实践\\代码\\my_code\\测试图像\\a-1.jpg'\n",
    "img_1=Image.open(img_path)\n",
    "img_1_array=np.array(img_1.convert('L'))\n",
    "array_list=[]\n",
    "array_list.append(img_1_array)\n",
    "out_img_nii = sitk.GetImageFromArray(np.array(array_list))\n",
    "sitk.WriteImage(out_img_nii,r'D:\\out_mask.nii.gz')"
   ],
   "metadata": {
    "collapsed": false
   }
  },
  {
   "cell_type": "code",
   "execution_count": 2,
   "outputs": [],
   "source": [
    "a=np.load(r'D:\\exe_code\\书籍资料\\Python\\影像组学入门及实践\\数据\\test2\\dataset_voc\\SegmentationClass\\2014_112061_1.npy')"
   ],
   "metadata": {
    "collapsed": false
   }
  },
  {
   "cell_type": "code",
   "execution_count": 3,
   "outputs": [
    {
     "data": {
      "text/plain": "array([[0, 0, 0, ..., 0, 0, 0],\n       [0, 0, 0, ..., 0, 0, 0],\n       [0, 0, 0, ..., 0, 0, 0],\n       ...,\n       [0, 0, 0, ..., 0, 0, 0],\n       [0, 0, 0, ..., 0, 0, 0],\n       [0, 0, 0, ..., 0, 0, 0]])"
     },
     "execution_count": 3,
     "metadata": {},
     "output_type": "execute_result"
    }
   ],
   "source": [
    "a"
   ],
   "metadata": {
    "collapsed": false
   }
  },
  {
   "cell_type": "code",
   "execution_count": 12,
   "outputs": [
    {
     "data": {
      "text/plain": "   original_shape_MajorAxisLength  original_shape_Maximum2DDiameterColumn  \\\n0                       72.620142                                    66.0   \n1                       66.020979                                    68.0   \n2                       88.651280                                    67.0   \n3                      204.718714                                   206.0   \n4                       97.461979                                    99.0   \n5                      105.302100                                    86.0   \n6                      190.784178                                   184.0   \n7                       88.540562                                    73.0   \n\n   original_shape_Maximum2DDiameterRow  original_shape_Maximum2DDiameterSlice  \\\n0                                 68.0                              81.841310   \n1                                 60.0                              71.021124   \n2                                 77.0                              95.718337   \n3                                200.0                             215.745220   \n4                                 91.0                             100.623059   \n5                                103.0                             105.546198   \n6                                155.0                             193.659495   \n7                                 76.0                              92.590496   \n\n   original_shape_Maximum3DDiameter  original_shape_MeshVolume  \\\n0                         81.841310                3022.916667   \n1                         71.021124                2949.416667   \n2                         95.718337                4383.416667   \n3                        215.745220               31914.166667   \n4                        100.623059                6875.666667   \n5                        105.546198                7174.416667   \n6                        193.659495               22699.166667   \n7                         92.590496                4456.666667   \n\n   original_shape_MinorAxisLength  original_shape_Sphericity  \\\n0                       57.148642                   0.161732   \n1                       60.058893                   0.163261   \n2                       64.997086                   0.143877   \n3                      199.831360                   0.075509   \n4                       91.126707                   0.124621   \n5                       88.090373                   0.122894   \n6                      153.858936                   0.084422   \n7                       65.445577                   0.143190   \n\n   original_shape_SurfaceArea  original_shape_SurfaceVolumeRatio  ...  \\\n0                 6251.327109                           2.067979  ...   \n1                 6092.006601                           2.065495  ...   \n2                 9002.617503                           2.053790  ...   \n3                64437.849494                           2.019099  ...   \n4                14031.510630                           2.040749  ...   \n5                14637.877678                           2.040288  ...   \n6                45923.748750                           2.023147  ...   \n7                 9146.292814                           2.052272  ...   \n\n   lbp-2D_glszm_SmallAreaLowGrayLevelEmphasis  lbp-2D_glszm_ZoneEntropy  \\\n0                                1.059638e-07             -3.203427e-16   \n1                                1.114080e-07             -3.203427e-16   \n2                                5.068073e-08             -3.203427e-16   \n3                                9.727893e-10             -3.203427e-16   \n4                                2.074463e-08             -3.203427e-16   \n5                                1.904598e-08             -3.203427e-16   \n6                                1.918953e-09             -3.203427e-16   \n7                                4.909863e-08             -3.203427e-16   \n\n   lbp-2D_glszm_ZonePercentage  lbp-2D_glszm_ZoneVariance  \\\n0                     0.000326                        0.0   \n1                     0.000334                        0.0   \n2                     0.000225                        0.0   \n3                     0.000031                        0.0   \n4                     0.000144                        0.0   \n5                     0.000138                        0.0   \n6                     0.000044                        0.0   \n7                     0.000222                        0.0   \n\n   lbp-2D_ngtdm_Busyness  lbp-2D_ngtdm_Coarseness  lbp-2D_ngtdm_Complexity  \\\n0                    0.0                1000000.0                      0.0   \n1                    0.0                1000000.0                      0.0   \n2                    0.0                1000000.0                      0.0   \n3                    0.0                1000000.0                      0.0   \n4                    0.0                1000000.0                      0.0   \n5                    0.0                1000000.0                      0.0   \n6                    0.0                1000000.0                      0.0   \n7                    0.0                1000000.0                      0.0   \n\n   lbp-2D_ngtdm_Contrast  lbp-2D_ngtdm_Strength  label  \n0                    0.0                    0.0     75  \n1                    0.0                    0.0     75  \n2                    0.0                    0.0     75  \n3                    0.0                    0.0     38  \n4                    0.0                    0.0     38  \n5                    0.0                    0.0     38  \n6                    0.0                    0.0     75  \n7                    0.0                    0.0     38  \n\n[8 rows x 1044 columns]",
      "text/html": "<div>\n<style scoped>\n    .dataframe tbody tr th:only-of-type {\n        vertical-align: middle;\n    }\n\n    .dataframe tbody tr th {\n        vertical-align: top;\n    }\n\n    .dataframe thead th {\n        text-align: right;\n    }\n</style>\n<table border=\"1\" class=\"dataframe\">\n  <thead>\n    <tr style=\"text-align: right;\">\n      <th></th>\n      <th>original_shape_MajorAxisLength</th>\n      <th>original_shape_Maximum2DDiameterColumn</th>\n      <th>original_shape_Maximum2DDiameterRow</th>\n      <th>original_shape_Maximum2DDiameterSlice</th>\n      <th>original_shape_Maximum3DDiameter</th>\n      <th>original_shape_MeshVolume</th>\n      <th>original_shape_MinorAxisLength</th>\n      <th>original_shape_Sphericity</th>\n      <th>original_shape_SurfaceArea</th>\n      <th>original_shape_SurfaceVolumeRatio</th>\n      <th>...</th>\n      <th>lbp-2D_glszm_SmallAreaLowGrayLevelEmphasis</th>\n      <th>lbp-2D_glszm_ZoneEntropy</th>\n      <th>lbp-2D_glszm_ZonePercentage</th>\n      <th>lbp-2D_glszm_ZoneVariance</th>\n      <th>lbp-2D_ngtdm_Busyness</th>\n      <th>lbp-2D_ngtdm_Coarseness</th>\n      <th>lbp-2D_ngtdm_Complexity</th>\n      <th>lbp-2D_ngtdm_Contrast</th>\n      <th>lbp-2D_ngtdm_Strength</th>\n      <th>label</th>\n    </tr>\n  </thead>\n  <tbody>\n    <tr>\n      <th>0</th>\n      <td>72.620142</td>\n      <td>66.0</td>\n      <td>68.0</td>\n      <td>81.841310</td>\n      <td>81.841310</td>\n      <td>3022.916667</td>\n      <td>57.148642</td>\n      <td>0.161732</td>\n      <td>6251.327109</td>\n      <td>2.067979</td>\n      <td>...</td>\n      <td>1.059638e-07</td>\n      <td>-3.203427e-16</td>\n      <td>0.000326</td>\n      <td>0.0</td>\n      <td>0.0</td>\n      <td>1000000.0</td>\n      <td>0.0</td>\n      <td>0.0</td>\n      <td>0.0</td>\n      <td>75</td>\n    </tr>\n    <tr>\n      <th>1</th>\n      <td>66.020979</td>\n      <td>68.0</td>\n      <td>60.0</td>\n      <td>71.021124</td>\n      <td>71.021124</td>\n      <td>2949.416667</td>\n      <td>60.058893</td>\n      <td>0.163261</td>\n      <td>6092.006601</td>\n      <td>2.065495</td>\n      <td>...</td>\n      <td>1.114080e-07</td>\n      <td>-3.203427e-16</td>\n      <td>0.000334</td>\n      <td>0.0</td>\n      <td>0.0</td>\n      <td>1000000.0</td>\n      <td>0.0</td>\n      <td>0.0</td>\n      <td>0.0</td>\n      <td>75</td>\n    </tr>\n    <tr>\n      <th>2</th>\n      <td>88.651280</td>\n      <td>67.0</td>\n      <td>77.0</td>\n      <td>95.718337</td>\n      <td>95.718337</td>\n      <td>4383.416667</td>\n      <td>64.997086</td>\n      <td>0.143877</td>\n      <td>9002.617503</td>\n      <td>2.053790</td>\n      <td>...</td>\n      <td>5.068073e-08</td>\n      <td>-3.203427e-16</td>\n      <td>0.000225</td>\n      <td>0.0</td>\n      <td>0.0</td>\n      <td>1000000.0</td>\n      <td>0.0</td>\n      <td>0.0</td>\n      <td>0.0</td>\n      <td>75</td>\n    </tr>\n    <tr>\n      <th>3</th>\n      <td>204.718714</td>\n      <td>206.0</td>\n      <td>200.0</td>\n      <td>215.745220</td>\n      <td>215.745220</td>\n      <td>31914.166667</td>\n      <td>199.831360</td>\n      <td>0.075509</td>\n      <td>64437.849494</td>\n      <td>2.019099</td>\n      <td>...</td>\n      <td>9.727893e-10</td>\n      <td>-3.203427e-16</td>\n      <td>0.000031</td>\n      <td>0.0</td>\n      <td>0.0</td>\n      <td>1000000.0</td>\n      <td>0.0</td>\n      <td>0.0</td>\n      <td>0.0</td>\n      <td>38</td>\n    </tr>\n    <tr>\n      <th>4</th>\n      <td>97.461979</td>\n      <td>99.0</td>\n      <td>91.0</td>\n      <td>100.623059</td>\n      <td>100.623059</td>\n      <td>6875.666667</td>\n      <td>91.126707</td>\n      <td>0.124621</td>\n      <td>14031.510630</td>\n      <td>2.040749</td>\n      <td>...</td>\n      <td>2.074463e-08</td>\n      <td>-3.203427e-16</td>\n      <td>0.000144</td>\n      <td>0.0</td>\n      <td>0.0</td>\n      <td>1000000.0</td>\n      <td>0.0</td>\n      <td>0.0</td>\n      <td>0.0</td>\n      <td>38</td>\n    </tr>\n    <tr>\n      <th>5</th>\n      <td>105.302100</td>\n      <td>86.0</td>\n      <td>103.0</td>\n      <td>105.546198</td>\n      <td>105.546198</td>\n      <td>7174.416667</td>\n      <td>88.090373</td>\n      <td>0.122894</td>\n      <td>14637.877678</td>\n      <td>2.040288</td>\n      <td>...</td>\n      <td>1.904598e-08</td>\n      <td>-3.203427e-16</td>\n      <td>0.000138</td>\n      <td>0.0</td>\n      <td>0.0</td>\n      <td>1000000.0</td>\n      <td>0.0</td>\n      <td>0.0</td>\n      <td>0.0</td>\n      <td>38</td>\n    </tr>\n    <tr>\n      <th>6</th>\n      <td>190.784178</td>\n      <td>184.0</td>\n      <td>155.0</td>\n      <td>193.659495</td>\n      <td>193.659495</td>\n      <td>22699.166667</td>\n      <td>153.858936</td>\n      <td>0.084422</td>\n      <td>45923.748750</td>\n      <td>2.023147</td>\n      <td>...</td>\n      <td>1.918953e-09</td>\n      <td>-3.203427e-16</td>\n      <td>0.000044</td>\n      <td>0.0</td>\n      <td>0.0</td>\n      <td>1000000.0</td>\n      <td>0.0</td>\n      <td>0.0</td>\n      <td>0.0</td>\n      <td>75</td>\n    </tr>\n    <tr>\n      <th>7</th>\n      <td>88.540562</td>\n      <td>73.0</td>\n      <td>76.0</td>\n      <td>92.590496</td>\n      <td>92.590496</td>\n      <td>4456.666667</td>\n      <td>65.445577</td>\n      <td>0.143190</td>\n      <td>9146.292814</td>\n      <td>2.052272</td>\n      <td>...</td>\n      <td>4.909863e-08</td>\n      <td>-3.203427e-16</td>\n      <td>0.000222</td>\n      <td>0.0</td>\n      <td>0.0</td>\n      <td>1000000.0</td>\n      <td>0.0</td>\n      <td>0.0</td>\n      <td>0.0</td>\n      <td>38</td>\n    </tr>\n  </tbody>\n</table>\n<p>8 rows × 1044 columns</p>\n</div>"
     },
     "execution_count": 12,
     "metadata": {},
     "output_type": "execute_result"
    }
   ],
   "source": [
    "abc = pd.read_excel('./nrrd_file/results_1674981840.xlsx')[abc.columns[1:]]\n",
    "abc"
   ],
   "metadata": {
    "collapsed": false
   }
  },
  {
   "cell_type": "code",
   "execution_count": 26,
   "outputs": [
    {
     "name": "stdout",
     "output_type": "stream",
     "text": [
      "(8, 7)\n"
     ]
    }
   ],
   "source": [
    "data = pd.read_excel('./nrrd_file/results_1674981840.xlsx').iloc[:, 22:]\n",
    "rows, _ = data.shape\n",
    "data = shuffle(data)\n",
    "# data = data.fillna(0)  # data中的空数据填充0\n",
    "X = data[data.columns[:-1]]\n",
    "y = data['label']\n",
    "colNames = X.columns\n",
    "X = X.astype(np.float64)\n",
    "X = StandardScaler().fit_transform(X)\n",
    "X = pd.DataFrame(X)\n",
    "X.columns = colNames\n",
    "\n",
    "model_pca = PCA(n_components = 0.99)\n",
    "model_pca.fit(X)\n",
    "X_new = model_pca.fit_transform(X)\n",
    "print(X_new.shape)"
   ],
   "metadata": {
    "collapsed": false
   }
  },
  {
   "cell_type": "code",
   "execution_count": 45,
   "outputs": [
    {
     "name": "stderr",
     "output_type": "stream",
     "text": [
      "C:\\Users\\99563\\AppData\\Local\\Programs\\Python\\Python37\\lib\\site-packages\\scipy\\stats\\morestats.py:2603: RuntimeWarning: invalid value encountered in double_scalars\n",
      "  W = numer / denom\n"
     ]
    },
    {
     "name": "stdout",
     "output_type": "stream",
     "text": [
      "18\n",
      "['original_shape2D_Sphericity', 'original_firstorder_Median', 'wavelet-HH_gldm_DependenceNonUniformityNormalized', 'wavelet-LL_firstorder_Median', 'square_firstorder_10Percentile', 'square_firstorder_Median', 'square_firstorder_Minimum', 'square_gldm_LargeDependenceHighGrayLevelEmphasis', 'square_gldm_LargeDependenceLowGrayLevelEmphasis', 'square_gldm_LowGrayLevelEmphasis', 'square_gldm_SmallDependenceLowGrayLevelEmphasis', 'squareroot_firstorder_Median', 'logarithm_firstorder_Median', 'logarithm_gldm_LargeDependenceLowGrayLevelEmphasis', 'logarithm_ngtdm_Busyness', 'exponential_firstorder_10Percentile', 'exponential_firstorder_Median', 'exponential_firstorder_Minimum']\n"
     ]
    }
   ],
   "source": [
    "data = pd.read_excel('./nrrd_file/results_1674981840.xlsx').iloc[:, 22:]\n",
    "data_a=data[data['label']==75].iloc[:, :-1]\n",
    "data_b=data[data['label']!=75].iloc[:, :-1]\n",
    "\n",
    "index = []\n",
    "for colName in data_a.columns:\n",
    "    if levene(data_a[colName], data_b[colName])[1] > 0.05:\n",
    "        if ttest_ind(data_a[colName], data_b[colName])[1] < 0.05:\n",
    "            index.append(colName)\n",
    "    else:\n",
    "        if ttest_ind(data_a[colName], data_b[colName],equal_var=False)[1] < 0.05:\n",
    "            index.append(colName)\n",
    "print(len(index))\n",
    "print(index)"
   ],
   "metadata": {
    "collapsed": false
   }
  },
  {
   "cell_type": "code",
   "execution_count": 51,
   "outputs": [
    {
     "name": "stdout",
     "output_type": "stream",
     "text": [
      "[1.00000000e-04 1.26485522e-04 1.59985872e-04 2.02358965e-04\n",
      " 2.55954792e-04 3.23745754e-04 4.09491506e-04 5.17947468e-04\n",
      " 6.55128557e-04 8.28642773e-04 1.04811313e-03 1.32571137e-03\n",
      " 1.67683294e-03 2.12095089e-03 2.68269580e-03 3.39322177e-03\n",
      " 4.29193426e-03 5.42867544e-03 6.86648845e-03 8.68511374e-03\n",
      " 1.09854114e-02 1.38949549e-02 1.75751062e-02 2.22299648e-02\n",
      " 2.81176870e-02 3.55648031e-02 4.49843267e-02 5.68986603e-02\n",
      " 7.19685673e-02 9.10298178e-02 1.15139540e-01 1.45634848e-01\n",
      " 1.84206997e-01 2.32995181e-01 2.94705170e-01 3.72759372e-01\n",
      " 4.71486636e-01 5.96362332e-01 7.54312006e-01 9.54095476e-01\n",
      " 1.20679264e+00 1.52641797e+00 1.93069773e+00 2.44205309e+00\n",
      " 3.08884360e+00 3.90693994e+00 4.94171336e+00 6.25055193e+00\n",
      " 7.90604321e+00 1.00000000e+01]\n"
     ]
    }
   ],
   "source": [
    "alphas = np.logspace(-4,1,50)\n",
    "print(alphas)"
   ],
   "metadata": {
    "collapsed": false
   }
  },
  {
   "cell_type": "code",
   "execution_count": 52,
   "outputs": [],
   "source": [
    "data = pd.read_excel('./nrrd_file/results_1674981840.xlsx').iloc[:, 22:]\n",
    "data = shuffle(data)\n",
    "data.index = range(len(data))\n",
    "X = data[data.columns[:-1]]\n",
    "y = data['label']\n",
    "X = X.apply(pd.to_numeric, errors='ignore')  # 将数据类型转化为数值型\n",
    "colNames = X.columns  # 读取特征的名字\n",
    "X = X.astype(np.float64)\n",
    "X = StandardScaler().fit_transform(X)\n",
    "X = pd.DataFrame(X)\n",
    "X.columns = colNames"
   ],
   "metadata": {
    "collapsed": false
   }
  },
  {
   "cell_type": "code",
   "execution_count": 55,
   "outputs": [
    {
     "data": {
      "text/plain": "original_shape_Elongation                -6.807771\noriginal_shape_Flatness                   0.000000\noriginal_shape_LeastAxisLength            0.000000\noriginal_shape_MajorAxisLength           -1.139738\noriginal_shape_Maximum2DDiameterColumn    0.952267\n                                            ...   \nlbp-2D_ngtdm_Busyness                     0.000000\nlbp-2D_ngtdm_Coarseness                   0.000000\nlbp-2D_ngtdm_Complexity                   0.000000\nlbp-2D_ngtdm_Contrast                     0.000000\nlbp-2D_ngtdm_Strength                     0.000000\nLength: 1046, dtype: float64"
     },
     "execution_count": 55,
     "metadata": {},
     "output_type": "execute_result"
    }
   ],
   "source": [
    "alphas = np.logspace(-4, 1, 50)  # alpha就是损失函数的拉姆达， 从10的-4次方到10的一次方均匀地取50个值\n",
    "model_lassoCV = LassoCV(alphas=alphas, max_iter=100000).fit(X, y)\n",
    "conf = pd.Series(model_lassoCV.coef_, colNames)\n",
    "conf"
   ],
   "metadata": {
    "collapsed": false
   }
  }
 ],
 "metadata": {
  "kernelspec": {
   "display_name": "Python 3",
   "language": "python",
   "name": "python3"
  },
  "language_info": {
   "codemirror_mode": {
    "name": "ipython",
    "version": 2
   },
   "file_extension": ".py",
   "mimetype": "text/x-python",
   "name": "python",
   "nbconvert_exporter": "python",
   "pygments_lexer": "ipython2",
   "version": "2.7.6"
  }
 },
 "nbformat": 4,
 "nbformat_minor": 0
}
